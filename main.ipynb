{
 "cells": [
  {
   "cell_type": "code",
   "execution_count": 1,
   "metadata": {},
   "outputs": [],
   "source": [
    "import cv2\n",
    "import numpy as np \n",
    "import matplotlib as plt\n",
    "    "
   ]
  },
  {
   "cell_type": "code",
   "execution_count": 2,
   "metadata": {},
   "outputs": [],
   "source": [
    "def click_callback(event,x,y,flags,params):\n",
    "    if event == cv2.EVENT_LBUTTONDOWN:\n",
    "        print(x,y)\n",
    "    return x,y"
   ]
  },
  {
   "cell_type": "code",
   "execution_count": 3,
   "metadata": {},
   "outputs": [],
   "source": [
    "ref = 'reference.png'\n",
    "cam0 = 'cam0.jpeg'\n",
    "cam1 = 'cam1.jpeg'\n",
    "cam2 = 'cam2.jpeg'\n",
    "switch = 0\n",
    "if switch == 0:\n",
    "    _file = ref\n",
    "elif switch == 1:\n",
    "    _file = cam0\n",
    "elif switch == 2:\n",
    "    _file = cam1\n",
    "else:\n",
    "    _file = cam2\n",
    "img = cv2.imread(_file)\n",
    "img = cv2.resize(img,(480,270))\n",
    "cv2.imshow('cam',img)\n",
    "cv2.setMouseCallback('cam',click_callback)\n",
    "cv2.waitKey(0)\n",
    "cv2.destroyAllWindows()"
   ]
  },
  {
   "cell_type": "code",
   "execution_count": 2,
   "metadata": {},
   "outputs": [],
   "source": [
    "width = 600\n",
    "height = 300"
   ]
  },
  {
   "cell_type": "code",
   "execution_count": 3,
   "metadata": {},
   "outputs": [],
   "source": [
    "ref_points = []\n",
    "cam0_points = []\n",
    "with open('ref_cv2.txt','r') as f:\n",
    "    for lines in f.readlines():\n",
    "        pointx,pointy = int(lines.split(\" \")[0]),int(lines.split(\" \")[1])\n",
    "        ref_points.append([pointx,pointy])\n",
    "    f.close()\n",
    "with open('cam1_cv2.txt','r') as f:\n",
    "    for lines in f.readlines():\n",
    "        pointx,pointy = int(lines.split(\" \")[0]),int(lines.split(\" \")[1])\n",
    "        cam0_points.append([pointx,pointy])\n",
    "    f.close()"
   ]
  },
  {
   "cell_type": "code",
   "execution_count": 4,
   "metadata": {},
   "outputs": [],
   "source": [
    "img = cv2.imread('cam1.jpeg')\n",
    "cam0_points = np.float32(cam0_points)\n",
    "ref_points  = np.float32(ref_points)\n",
    "M,_ = cv2.findHomography(ref_points,cam0_points)\n",
    "dst = cv2.warpPerspective(img,M,(width,height))\n",
    "cv2.imshow('frame',dst)\n",
    "cv2.waitKey(0)\n",
    "cv2.destroyAllWindows()"
   ]
  },
  {
   "cell_type": "code",
   "execution_count": 5,
   "metadata": {},
   "outputs": [],
   "source": [
    "import json\n",
    "with open('camera0.txt','r') as f:\n",
    "    data = json.load(f)\n",
    "    f.close()\n",
    "points_per_frame = []\n",
    "for frame in data:\n",
    "    temp = []\n",
    "    for frame_data in frame:\n",
    "        dic = {}\n",
    "        dic['class'] = frame_data['class']\n",
    "        dic['pointx'] = frame_data['start_X'] + (frame_data['width']/2)\n",
    "        dic['pointy'] = frame_data['start_Y'] + (frame_data['height']/2)\n",
    "        temp.append(dic)\n",
    "    points_per_frame.append(temp)\n",
    "\n",
    "import json\n",
    "with open(\"points.txt\",'w') as f:\n",
    "    json.dump(points_per_frame,f)\n",
    "f.close()"
   ]
  },
  {
   "cell_type": "code",
   "execution_count": 7,
   "metadata": {},
   "outputs": [],
   "source": [
    "def warp_points(point_data,M):\n",
    "    points_to_draw = []\n",
    "    for point in point_data:\n",
    "        mat = np.array([point['pointx'],point['pointy'],1])\n",
    "        mat = np.sum(mat*M,axis = 1)\n",
    "        mat = mat/mat[2] #normalize by z axis\n",
    "        color = (255,0,0) if point['class'] == 'standing' else (0,0,255)\n",
    "        points_to_draw.append([int(mat[0]),int(mat[1]),color])\n",
    "    return points_to_draw\n",
    "\n",
    "fourcc = cv2.VideoWriter_fourcc(*'XVID')\n",
    "video=cv2.VideoWriter('cam2_top.avi',fourcc, 30, (width,height))        \n",
    "capture = cv2.VideoCapture('cam1.avi')\n",
    "frames = 0\n",
    "while True:\n",
    "    ret,frame = capture.read()\n",
    "    if not ret:\n",
    "        break\n",
    "    frame = cv2.warpPerspective(frame,M,(width,height))\n",
    "    #points = warp_points(points_per_frame[frames],M)\n",
    "    # for point in points:\n",
    "    #     cv2.circle(frame,(point[0],point[1]),2,point[2],2)\n",
    "    cv2.imshow('frame',frame)\n",
    "    video.write(frame)\n",
    "    if cv2.waitKey(33) & 0xff == ord('q'):\n",
    "        break\n",
    "    frames+=1\n",
    "\n",
    "capture.release()\n",
    "video.release()\n",
    "cv2.destroyAllWindows()"
   ]
  },
  {
   "cell_type": "code",
   "execution_count": 121,
   "metadata": {},
   "outputs": [],
   "source": []
  }
 ],
 "metadata": {
  "kernelspec": {
   "name": "python3",
   "display_name": "Python 3.7.4 64-bit ('py37': conda)",
   "metadata": {
    "interpreter": {
     "hash": "2c136d956bd1ae2bdf63ad8bc4bce06c2f1fc342571ea969aa555e75edfe12ef"
    }
   }
  },
  "language_info": {
   "codemirror_mode": {
    "name": "ipython",
    "version": 3
   },
   "file_extension": ".py",
   "mimetype": "text/x-python",
   "name": "python",
   "nbconvert_exporter": "python",
   "pygments_lexer": "ipython3",
   "version": "3.7.4-final"
  }
 },
 "nbformat": 4,
 "nbformat_minor": 2
}